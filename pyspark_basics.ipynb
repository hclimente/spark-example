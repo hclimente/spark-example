{
 "cells": [
  {
   "cell_type": "code",
   "execution_count": 1,
   "metadata": {
    "ExecuteTime": {
     "end_time": "2017-11-05T13:40:58.319958Z",
     "start_time": "2017-11-05T13:40:32.911682Z"
    }
   },
   "outputs": [
    {
     "name": "stdout",
     "output_type": "stream",
     "text": [
      "Welcome to\n",
      "      ____              __\n",
      "     / __/__  ___ _____/ /__\n",
      "    _\\ \\/ _ \\/ _ `/ __/  '_/\n",
      "   /__ / .__/\\_,_/_/ /_/\\_\\   version 2.2.0\n",
      "      /_/\n",
      "\n",
      "Using Python version 3.5.4 (default, Oct 27 2017 11:48:53)\n",
      "SparkSession available as 'spark'.\n"
     ]
    }
   ],
   "source": [
    "import os\n",
    "sparkFile = os.path.join(os.environ[\"SPARK_HOME\"], 'python/pyspark/shell.py')\n",
    "exec(compile(open(sparkFile, \"rb\").read(), sparkFile, 'exec'))"
   ]
  },
  {
   "cell_type": "markdown",
   "metadata": {},
   "source": [
    "# \"Hello world\""
   ]
  },
  {
   "cell_type": "code",
   "execution_count": 2,
   "metadata": {
    "ExecuteTime": {
     "end_time": "2017-11-05T13:40:58.353181Z",
     "start_time": "2017-11-05T13:40:58.324018Z"
    }
   },
   "outputs": [
    {
     "data": {
      "text/html": [
       "\n",
       "        <div>\n",
       "            <p><b>SparkContext</b></p>\n",
       "\n",
       "            <p><a href=\"http://10.30.51.240:4040\">Spark UI</a></p>\n",
       "\n",
       "            <dl>\n",
       "              <dt>Version</dt>\n",
       "                <dd><code>v2.2.0</code></dd>\n",
       "              <dt>Master</dt>\n",
       "                <dd><code>local[*]</code></dd>\n",
       "              <dt>AppName</dt>\n",
       "                <dd><code>pyspark-shell</code></dd>\n",
       "            </dl>\n",
       "        </div>\n",
       "        "
      ],
      "text/plain": [
       "<SparkContext master=local[*] appName=pyspark-shell>"
      ]
     },
     "execution_count": 2,
     "metadata": {},
     "output_type": "execute_result"
    }
   ],
   "source": [
    "sc"
   ]
  },
  {
   "cell_type": "markdown",
   "metadata": {
    "collapsed": true
   },
   "source": [
    "If PySpart was correctly installed, the variable `sc` (for SparkContent) should be initialized. `sc` is used as the driver that tells Spark how to use the cluster resources. In this case, Spark will run locally.\n",
    "\n",
    "Below there is an example of π estimation using MC."
   ]
  },
  {
   "cell_type": "code",
   "execution_count": 3,
   "metadata": {
    "ExecuteTime": {
     "end_time": "2017-11-05T13:40:59.850988Z",
     "start_time": "2017-11-05T13:40:58.357363Z"
    }
   },
   "outputs": [
    {
     "name": "stdout",
     "output_type": "stream",
     "text": [
      "3.14656\n"
     ]
    }
   ],
   "source": [
    "import random\n",
    "num_samples = 100000\n",
    "\n",
    "def inside(p):     \n",
    "  x, y = random.random(), random.random()\n",
    "  return x*x + y*y < 1\n",
    "\n",
    "count = sc.parallelize(range(0, num_samples)).filter(inside).count()\n",
    "\n",
    "pi = 4 * count / num_samples\n",
    "print(pi)"
   ]
  },
  {
   "cell_type": "markdown",
   "metadata": {
    "collapsed": true
   },
   "source": [
    "# RDDs\n",
    "\n",
    "Resilient Distributed Datasets (RDDs) are sets of Java or Scala objects representing data and that can be operated in parallel. They have a time (and hence are compile-time safe), they are lazy and they are based on the Scala collections API. They are the building blocks of Spark. However, they might present problems with non-JVM languages, such as Python: inefficiency, difficult-to-read problems, etc.\n",
    "\n",
    "RDDs can be created either from a storage source supported by Hadoop of from an existing iterable. "
   ]
  },
  {
   "cell_type": "code",
   "execution_count": 24,
   "metadata": {
    "ExecuteTime": {
     "end_time": "2017-11-05T14:50:51.814680Z",
     "start_time": "2017-11-05T14:50:51.759225Z"
    }
   },
   "outputs": [
    {
     "data": {
      "text/plain": [
       "data/readme.txt MapPartitionsRDD[32] at textFile at NativeMethodAccessorImpl.java:0"
      ]
     },
     "execution_count": 24,
     "metadata": {},
     "output_type": "execute_result"
    }
   ],
   "source": [
    "# RDD from a text file; its a pointer, doesn't load it into memory\n",
    "distFile = sc.textFile (\"data/readme.txt\")\n",
    "distFile"
   ]
  },
  {
   "cell_type": "code",
   "execution_count": 19,
   "metadata": {
    "ExecuteTime": {
     "end_time": "2017-11-05T14:31:21.562888Z",
     "start_time": "2017-11-05T14:31:21.546939Z"
    }
   },
   "outputs": [
    {
     "data": {
      "text/plain": [
       "ParallelCollectionRDD[20] at parallelize at PythonRDD.scala:480"
      ]
     },
     "execution_count": 19,
     "metadata": {},
     "output_type": "execute_result"
    }
   ],
   "source": [
    "# RDD from iterable\n",
    "data = [1, 2, 3, 4, 5]\n",
    "distData = sc.parallelize(data)\n",
    "distData"
   ]
  },
  {
   "cell_type": "markdown",
   "metadata": {},
   "source": [
    "## RDD operations\n",
    "\n",
    "We can manipulate RDDs through two types of operations, actions and transformations.\n",
    "\n",
    "- Actions return a value to the driver program after running a computation on the dataset. `reduce` is an action.\n",
    "- Transformations create a new dataset from the existing one. Transformations are lazy. `map` is a transformation."
   ]
  },
  {
   "cell_type": "code",
   "execution_count": 29,
   "metadata": {
    "ExecuteTime": {
     "end_time": "2017-11-05T14:53:47.663693Z",
     "start_time": "2017-11-05T14:53:47.561627Z"
    }
   },
   "outputs": [
    {
     "name": "stdout",
     "output_type": "stream",
     "text": [
      "lineLengths ->  PythonRDD[40] at RDD at PythonRDD.scala:48\n",
      "totalLength ->  2075\n"
     ]
    }
   ],
   "source": [
    "# calculate the length of each line\n",
    "lineLengths = distFile.map(lambda s: len(s))\n",
    "# lazyness: lineLengths is not yet computed\n",
    "print(\"lineLengths -> \", lineLengths)\n",
    "\n",
    "totalLength = lineLengths.reduce(lambda a, b: a + b)\n",
    "# reduce is an action, therefore it is evaluated\n",
    "print(\"totalLength -> \", totalLength)"
   ]
  },
  {
   "cell_type": "markdown",
   "metadata": {},
   "source": [
    "\n",
    "When we make operations on RDD, Spark breaks them up into tasks, each of which is executed by an executor. Before execution, Spark computes the task's closure: the variables and methods that must be visible to the executor to perform the task. Then, this closure is sent to the executor. Functions passed can be lambda expressions, local `defs` or top-level functions in a module. Variables are copied, and each executor sees its own copy. If we want different executors to update the value of a variable, we need `Accumulators`."
   ]
  },
  {
   "cell_type": "markdown",
   "metadata": {},
   "source": [
    "### Printing elements"
   ]
  },
  {
   "cell_type": "code",
   "execution_count": 5,
   "metadata": {
    "ExecuteTime": {
     "end_time": "2017-11-05T13:41:04.903057Z",
     "start_time": "2017-11-05T13:41:04.782684Z"
    }
   },
   "outputs": [
    {
     "data": {
      "text/plain": [
       "'Title:  Bag of Words Data Set'"
      ]
     },
     "execution_count": 5,
     "metadata": {},
     "output_type": "execute_result"
    }
   ],
   "source": [
    "# get first element\n",
    "distFile. first()"
   ]
  },
  {
   "cell_type": "code",
   "execution_count": 4,
   "metadata": {
    "ExecuteTime": {
     "end_time": "2017-11-05T13:41:04.557104Z",
     "start_time": "2017-11-05T13:41:04.312860Z"
    }
   },
   "outputs": [
    {
     "data": {
      "text/plain": [
       "['Title:  Bag of Words Data Set',\n",
       " '',\n",
       " 'Abstract: This data set contains five text collections in the form of bags-of-words.',\n",
       " '',\n",
       " '-----------------------------------------------------\\t']"
      ]
     },
     "execution_count": 4,
     "metadata": {},
     "output_type": "execute_result"
    }
   ],
   "source": [
    "# get first 5 elements\n",
    "distFile. take(5)"
   ]
  },
  {
   "cell_type": "code",
   "execution_count": 6,
   "metadata": {
    "ExecuteTime": {
     "end_time": "2017-11-05T13:41:05.822159Z",
     "start_time": "2017-11-05T13:41:05.761867Z"
    }
   },
   "outputs": [
    {
     "name": "stdout",
     "output_type": "stream",
     "text": [
      "['Title:  Bag of Words Data Set', '', 'Abstract: This data set contains five text collections in the form of bags-of-words.', '', '-----------------------------------------------------\\t', '', 'Data Set Characteristics: Text', 'Number of Instances: 8000000', 'Area: N/A', 'Attribute Characteristics: Integer', 'Number of Attributes: 100000', 'Date Donated: 2008-03-12', 'Associated Tasks: Clustering', 'Missing Values? N/A', '', '-----------------------------------------------------\\t\\t', '', 'Source:', '', 'David Newman', \"newman '@' uci.edu\", 'University of California, Irvine', '', '-----------------------------------------------------\\t', '', 'Data Set Information:', '', 'For each text collection, D is the number of documents, W is the', 'number of words in the vocabulary, and N is the total number of words', 'in the collection (below, NNZ is the number of nonzero counts in the', 'bag-of-words). After tokenization and removal of stopwords, the', 'vocabulary of unique words was truncated by only keeping words that', 'occurred more than ten times. Individual document names (i.e. a', 'identifier for each docID) are not provided for copyright reasons.', '', 'These data sets have no class labels, and for copyright reasons no', 'filenames or other document-level metadata.  These data sets are ideal', 'for clustering and topic modeling experiments.', '', 'For each text collection we provide docword.*.txt (the bag of words', 'file in sparse format) and vocab.*.txt (the vocab file).', '', 'Enron Emails:', 'orig source: www.cs.cmu.edu/~enron', 'D=39861', 'W=28102', 'N=6,400,000 (approx)', '', 'NIPS full papers:', 'orig source: books.nips.cc', 'D=1500', 'W=12419', 'N=1,900,000 (approx)', '', 'KOS blog entries:', 'orig source: dailykos.com', 'D=3430', 'W=6906', 'N=467714', '', 'NYTimes news articles:', 'orig source: ldc.upenn.edu', 'D=300000', 'W=102660', 'N=100,000,000 (approx)', '', 'PubMed abstracts:', 'orig source: www.pubmed.gov', 'D=8200000', 'W=141043', 'N=730,000,000 (approx)', '', '', '-----------------------------------------------------\\t', '', 'Attribute Information:', '', 'The format of the docword.*.txt file is 3 header lines, followed by', 'NNZ triples:', '---', 'D', 'W', 'NNZ', 'docID wordID count', 'docID wordID count', 'docID wordID count', 'docID wordID count', '...', 'docID wordID count', 'docID wordID count', 'docID wordID count', '---', '', 'The format of the vocab.*.txt file is line contains wordID=n.', '']\n"
     ]
    }
   ],
   "source": [
    "# get all the elements\n",
    "print(distFile. collect())"
   ]
  },
  {
   "cell_type": "code",
   "execution_count": 11,
   "metadata": {
    "ExecuteTime": {
     "end_time": "2017-11-05T13:41:10.841976Z",
     "start_time": "2017-11-05T13:41:10.722852Z"
    }
   },
   "outputs": [
    {
     "data": {
      "text/plain": [
       "['PubMed abstracts:',\n",
       " 'Attribute Characteristics: Integer',\n",
       " 'docID wordID count']"
      ]
     },
     "execution_count": 11,
     "metadata": {},
     "output_type": "execute_result"
    }
   ],
   "source": [
    "# sample 3 elements without replacement\n",
    "distFile. takeSample (False, 3)"
   ]
  },
  {
   "cell_type": "markdown",
   "metadata": {},
   "source": [
    "### Transformations"
   ]
  },
  {
   "cell_type": "code",
   "execution_count": 7,
   "metadata": {
    "ExecuteTime": {
     "end_time": "2017-11-05T13:41:07.212011Z",
     "start_time": "2017-11-05T13:41:07.116474Z"
    }
   },
   "outputs": [
    {
     "data": {
      "text/plain": [
       "[['Title:', 'Bag', 'of', 'Words', 'Data', 'Set'],\n",
       " [],\n",
       " ['Abstract:',\n",
       "  'This',\n",
       "  'data',\n",
       "  'set',\n",
       "  'contains',\n",
       "  'five',\n",
       "  'text',\n",
       "  'collections',\n",
       "  'in',\n",
       "  'the',\n",
       "  'form',\n",
       "  'of',\n",
       "  'bags-of-words.']]"
      ]
     },
     "execution_count": 7,
     "metadata": {},
     "output_type": "execute_result"
    }
   ],
   "source": [
    "# apply a function to every line\n",
    "# return an iterable of iterables with the results\n",
    "distFile. map(lambda line: line.split()). take(3)"
   ]
  },
  {
   "cell_type": "code",
   "execution_count": 8,
   "metadata": {
    "ExecuteTime": {
     "end_time": "2017-11-05T13:41:08.141105Z",
     "start_time": "2017-11-05T13:41:08.064839Z"
    }
   },
   "outputs": [
    {
     "data": {
      "text/plain": [
       "['Title:',\n",
       " 'Bag',\n",
       " 'of',\n",
       " 'Words',\n",
       " 'Data',\n",
       " 'Set',\n",
       " 'Abstract:',\n",
       " 'This',\n",
       " 'data',\n",
       " 'set']"
      ]
     },
     "execution_count": 8,
     "metadata": {},
     "output_type": "execute_result"
    }
   ],
   "source": [
    "# apply a function to every line\n",
    "# return an iterable with the results\n",
    "distFile. flatMap(lambda line: line.split()). take(10)"
   ]
  },
  {
   "cell_type": "code",
   "execution_count": 9,
   "metadata": {
    "ExecuteTime": {
     "end_time": "2017-11-05T13:41:09.826822Z",
     "start_time": "2017-11-05T13:41:09.709723Z"
    }
   },
   "outputs": [
    {
     "data": {
      "text/plain": [
       "['orig source: www.cs.cmu.edu/~enron',\n",
       " 'orig source: books.nips.cc',\n",
       " 'orig source: dailykos.com',\n",
       " 'orig source: ldc.upenn.edu',\n",
       " 'orig source: www.pubmed.gov']"
      ]
     },
     "execution_count": 9,
     "metadata": {},
     "output_type": "execute_result"
    }
   ],
   "source": [
    "# reduce the dataset based on a condition\n",
    "distFile. filter(lambda line: 'source' in line). collect()"
   ]
  },
  {
   "cell_type": "code",
   "execution_count": 10,
   "metadata": {
    "ExecuteTime": {
     "end_time": "2017-11-05T13:41:10.282660Z",
     "start_time": "2017-11-05T13:41:10.190246Z"
    }
   },
   "outputs": [
    {
     "data": {
      "text/plain": [
       "5"
      ]
     },
     "execution_count": 10,
     "metadata": {},
     "output_type": "execute_result"
    }
   ],
   "source": [
    "# count number of elements\n",
    "distFile. filter(lambda line: 'source' in line). count()"
   ]
  },
  {
   "cell_type": "markdown",
   "metadata": {
    "collapsed": true
   },
   "source": [
    "## DataFrames\n",
    "\n",
    "DataFrames were conceived to overcome the efficiency limitations of RDD. At its core they are still RDD, but with an interface that makes interacting with the data easier and faster. The price to pay is the compile-time safety, which is gone in exchange for the flexibility and, therefore, a more prone to error code."
   ]
  },
  {
   "cell_type": "code",
   "execution_count": null,
   "metadata": {
    "collapsed": true
   },
   "outputs": [],
   "source": []
  },
  {
   "cell_type": "markdown",
   "metadata": {},
   "source": [
    "## DataSets\n",
    "\n",
    "DataSets were developed to reconcile the usability of DataFrames with the safety of RDDs. In Spark, a DataSet can be untyped, and hehce equivalent to a DataFrame, or typed. However, in Python, only untyped is available."
   ]
  },
  {
   "cell_type": "code",
   "execution_count": null,
   "metadata": {
    "collapsed": true
   },
   "outputs": [],
   "source": []
  },
  {
   "cell_type": "markdown",
   "metadata": {},
   "source": [
    "# References\n",
    "\n",
    "- [Spark Programming Guide](https://spark.apache.org/docs/2.2.0/rdd-programming-guide.html)\n",
    "\n",
    "- [PySpark Tutorial](https://www.dezyre.com/apache-spark-tutorial/pyspark-tutorial)\n",
    "- [Apache Spark in Python: Beginner's Guide](https://www.datacamp.com/community/tutorials/apache-spark-python)"
   ]
  },
  {
   "cell_type": "code",
   "execution_count": null,
   "metadata": {
    "collapsed": true
   },
   "outputs": [],
   "source": []
  }
 ],
 "metadata": {
  "kernelspec": {
   "display_name": "Python 3",
   "language": "python",
   "name": "python3"
  },
  "language_info": {
   "codemirror_mode": {
    "name": "ipython",
    "version": 3
   },
   "file_extension": ".py",
   "mimetype": "text/x-python",
   "name": "python",
   "nbconvert_exporter": "python",
   "pygments_lexer": "ipython3",
   "version": "3.5.4"
  }
 },
 "nbformat": 4,
 "nbformat_minor": 2
}
